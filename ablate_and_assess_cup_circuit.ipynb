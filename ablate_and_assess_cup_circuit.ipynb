{
 "cells": [
  {
   "cell_type": "code",
   "execution_count": null,
   "metadata": {},
   "outputs": [],
   "source": []
  },
  {
   "cell_type": "code",
   "execution_count": null,
   "metadata": {},
   "outputs": [],
   "source": []
  },
  {
   "cell_type": "markdown",
   "metadata": {},
   "source": [
    "# Assess cup circuit\n",
    "\n",
    "The purpose of this notebook is to assess the cup circuit based on output accuracy.\n",
    "\n",
    "If we have isolated the cup circuit, then TinyCLIP will be unable to "
   ]
  },
  {
   "cell_type": "markdown",
   "metadata": {},
   "source": [
    "## Get TinyCLIP accuracy given a model\n",
    "\n",
    "Function to get accuracy on cup and non-cup classification. Get accuracy of a vanilla net. Do top 5 classification."
   ]
  },
  {
   "cell_type": "markdown",
   "metadata": {},
   "source": []
  },
  {
   "cell_type": "code",
   "execution_count": null,
   "metadata": {},
   "outputs": [],
   "source": []
  },
  {
   "cell_type": "markdown",
   "metadata": {},
   "source": [
    "## Write function to ablate circuit given a list of MLP neurons\n",
    "\n",
    "Ablate list, then get accuracy on cups + non-cups."
   ]
  },
  {
   "cell_type": "code",
   "execution_count": null,
   "metadata": {},
   "outputs": [],
   "source": []
  },
  {
   "cell_type": "markdown",
   "metadata": {},
   "source": [
    "## Write function to isolate a subgraph given a list of neurons\n",
    "\n",
    "Isolate subgraph, then run cup and non-cup classification."
   ]
  },
  {
   "cell_type": "markdown",
   "metadata": {},
   "source": []
  }
 ],
 "metadata": {
  "language_info": {
   "name": "python"
  }
 },
 "nbformat": 4,
 "nbformat_minor": 2
}
