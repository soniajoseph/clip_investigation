{
 "cells": [
  {
   "cell_type": "markdown",
   "metadata": {},
   "source": [
    "# Population-level ablations check\n",
    "\n",
    "While I checked the logits post-ablation for a few examples, I wanted to run it on a subsample of the full dataset for rigor."
   ]
  },
  {
   "cell_type": "code",
   "execution_count": null,
   "metadata": {},
   "outputs": [],
   "source": [
    "import torch\n",
    "from torchvision import datasets, transforms\n",
    "from torch.utils.data import DataLoader, Subset\n",
    "import os\n",
    "import logging\n",
    "import json\n",
    "import random\n",
    "\n",
    "import numpy as np\n",
    "import json\n",
    "from tqdm.notebook import tqdm\n",
    "\n",
    "import pandas as pd\n"
   ]
  },
  {
   "cell_type": "code",
   "execution_count": 2,
   "metadata": {},
   "outputs": [
    {
     "data": {
      "text/plain": [
       "500"
      ]
     },
     "execution_count": 2,
     "metadata": {},
     "output_type": "execute_result"
    }
   ],
   "source": [
    "# Load imagenet\n",
    "\n",
    "\n",
    "# Path to your imagenet_class.json file\n",
    "json_file_path = '/home/mila/s/sonia.joseph/ViT-Planetarium/my_draft/test_nbs/imagenet_class_index.json'\n",
    "imagenet_path = '/network/datasets/imagenet.var/imagenet_torchvision/val/'\n",
    "\n",
    "# Load the JSON file into a Python dictionary\n",
    "with open(json_file_path, 'r') as file:\n",
    "    num_to_word_dict = json.load(file)\n",
    "\n",
    "# Create a reverse dictionary for word to number mapping\n",
    "word_to_num_dict = {}\n",
    "for num, words in num_to_word_dict.items():\n",
    "    for word in words:  # Assuming each entry in num_to_word_dict is a list of words\n",
    "        word_to_num_dict[word] = num\n",
    "\n",
    "# Function to get the class name from a label\n",
    "def get_class_name(label):\n",
    "    # Assuming the label maps to a list of class names\n",
    "    return num_to_word_dict.get(str(label), [\"Unknown label\"])[1]\n",
    "\n",
    "# Function to get the label from a class name\n",
    "def get_label(class_name):\n",
    "    return word_to_num_dict.get(class_name, \"Unknown class name\")\n",
    "\n",
    "# Get class names\n",
    "imagenet_class_nums = np.arange(0, 1000, 1)\n",
    "imagenet_class_names = [\"{}\".format(get_class_name(i)) for i in imagenet_class_nums]\n",
    "\n",
    "# Set the seed. You don't need indices if data is loaded in same order every time.\n",
    "seed = 42\n",
    "torch.manual_seed(seed)\n",
    "np.random.seed(seed)\n",
    "random.seed(seed)\n",
    "\n",
    "data_transforms = transforms.Compose([\n",
    "    transforms.Resize((224, 224)),\n",
    "    transforms.ToTensor(),\n",
    "])\n",
    "\n",
    "# Function to load images based on saved order\n",
    "def load_images_in_order(indices_path, imagenet_dataset):\n",
    "    indices = np.load(indices_path)\n",
    "    subset_dataset = Subset(imagenet_dataset, indices)\n",
    "    data_loader = DataLoader(subset_dataset, batch_size=1)\n",
    "    return data_loader\n",
    "\n",
    "# Load the ImageNet dataset\n",
    "batch_size = 1\n",
    "imagenet_data = datasets.ImageFolder(imagenet_path, transform=data_transforms)\n",
    "data_loader = load_images_in_order('imagenet_sample_indices.npy', imagenet_data)\n",
    "len(data_loader)"
   ]
  },
  {
   "cell_type": "markdown",
   "metadata": {},
   "source": [
    "# Mean-ablations\n",
    "\n",
    "Construct a cup concept class from the ImageNet-1k hierarchy. Do vessel + beverage + glass + container. This is imperfect but a good starting piont.\n",
    "\n",
    "\n",
    "Classification based on wordnet hierarchy https://observablehq.com/@mbostock/imagenet-hierarchy\n",
    "\n",
    "\n"
   ]
  },
  {
   "cell_type": "code",
   "execution_count": 3,
   "metadata": {},
   "outputs": [],
   "source": [
    "# Construct a cup class\n",
    "# Do vessel + beverage + glass + container\n",
    "# Based on this https://observablehq.com/@mbostock/imagenet-hierarchy\n",
    "\n",
    "\n",
    "cup_classes = [\n",
    "    \"measuring_cup\",\n",
    "    \"coffee_mug\",\n",
    "    \"water_jug\",\n",
    "    \"whiskey_jug\",\n",
    "    \"beer_bottle\",\n",
    "    \"pill_bottle\",\n",
    "    \"pop_bottle\",\n",
    "    \"water_bottle\",\n",
    "    \"wine_bottle\",\n",
    "    \"washbasin\",\n",
    "    \"beaker\",\n",
    "    \"vase\",\n",
    "    \"cauldron\",\n",
    "    \"coffeepot\",\n",
    "    \"teapot\",\n",
    "    \"barrel\",\n",
    "    \"bathtub\",\n",
    "    \"bucket\",\n",
    "    \"ladle\",\n",
    "    \"mortar\",\n",
    "    \"pitcher\",\n",
    "    \"tub\",\n",
    "    \"mixing_bowl\",\n",
    "    \"soup_bowl\",\n",
    "    \"Petri dish\",\n",
    "    \"milk_can\",\n",
    "    \"beer_glass\",\n",
    "    \"goblet\",\n",
    "    \"cocktail_shaker\",\n",
    "    \"saltshaker\",\n",
    "    \"pot\",\n",
    "    \"thimble\",\n",
    "    \"hot_pot\",\n",
    "    \"trifle\",\n",
    "    \"consomme\",\n",
    "    \"espresso\",\n",
    "    \"red_wine\",\n",
    "    \"cup\",\n",
    "    \"eggnog\"\n",
    "]\n"
   ]
  },
  {
   "cell_type": "code",
   "execution_count": 4,
   "metadata": {},
   "outputs": [],
   "source": [
    "def is_match(imagenet_class, target_classes):\n",
    "    words = imagenet_class.split()\n",
    "    for target in target_classes:\n",
    "        target_words = target.split()\n",
    "        if all(word in words for word in target_words):\n",
    "            return True\n",
    "    return False\n",
    "matching_classes = [cls for cls in imagenet_class_names if is_match(cls, cup_classes)]\n"
   ]
  },
  {
   "cell_type": "code",
   "execution_count": 5,
   "metadata": {},
   "outputs": [],
   "source": [
    "dog_classes = [\n",
    "    \"chihuahua\",\n",
    "    \"japanese_spaniel\",\n",
    "    \"maltese_dog\",\n",
    "    \"pekinese\",\n",
    "    \"shih-tzu\",\n",
    "    \"blenheim_spaniel\",\n",
    "    \"papillon\",\n",
    "    \"toy_terrier\",\n",
    "    \"rhodesian_ridgeback\",\n",
    "    \"afghan_hound\",\n",
    "    \"basset\",\n",
    "    \"beagle\",\n",
    "    \"bloodhound\",\n",
    "    \"bluetick\",\n",
    "    \"black-and-tan_coonhound\",\n",
    "    \"walker_hound\",\n",
    "    \"english_foxhound\",\n",
    "    \"redbone\",\n",
    "    \"borzoi\",\n",
    "    \"irish_wolfhound\",\n",
    "    \"italian_greyhound\",\n",
    "    \"whippet\",\n",
    "    \"ibizan_hound\",\n",
    "    \"norwegian_elkhound\",\n",
    "    \"otterhound\",\n",
    "    \"saluki\",\n",
    "    \"scottish_deerhound\",\n",
    "    \"weimaraner\",\n",
    "    \"staffordshire_bullterrier\",\n",
    "    \"american_staffordshire_terrier\",\n",
    "    \"bedlington_terrier\",\n",
    "    \"border_terrier\",\n",
    "    \"kerry_blue_terrier\",\n",
    "    \"irish_terrier\",\n",
    "    \"norfolk_terrier\",\n",
    "    \"norwich_terrier\",\n",
    "    \"yorkshire_terrier\",\n",
    "    \"wire-haired_fox_terrier\",\n",
    "    \"lakeland_terrier\",\n",
    "    \"sealyham_terrier\",\n",
    "    \"airedale\",\n",
    "    \"cairn\",\n",
    "    \"australian_terrier\",\n",
    "    \"dandie_dinmont\",\n",
    "    \"boston_bull\",\n",
    "    \"miniature_schnauzer\",\n",
    "    \"giant_schnauzer\",\n",
    "    \"standard_schnauzer\",\n",
    "    \"scotch_terrier\",\n",
    "    \"tibetan_terrier\",\n",
    "    \"silky_terrier\",\n",
    "    \"soft-coated_wheaten_terrier\",\n",
    "    \"west_highland_white_terrier\",\n",
    "    \"lhasa\",\n",
    "    \"flat-coated_retriever\",\n",
    "    \"curly-coated_retriever\",\n",
    "    \"golden_retriever\",\n",
    "    \"labrador_retriever\",\n",
    "    \"chesapeake_bay_retriever\",\n",
    "    \"german_short-haired_pointer\",\n",
    "    \"vizsla\",\n",
    "    \"english_setter\",\n",
    "    \"irish_setter\",\n",
    "    \"gordon_setter\",\n",
    "    \"brittany_spaniel\",\n",
    "    \"clumber\",\n",
    "    \"english_springer\",\n",
    "    \"welsh_springer_spaniel\",\n",
    "    \"cocker_spaniel\",\n",
    "    \"sussex_spaniel\",\n",
    "    \"irish_water_spaniel\",\n",
    "    \"kuvasz\",\n",
    "    \"schipperke\",\n",
    "    \"groenendael\",\n",
    "    \"malinois\",\n",
    "    \"briard\",\n",
    "    \"kelpie\",\n",
    "    \"komondor\",\n",
    "    \"old_english_sheepdog\",\n",
    "    \"shetland_sheepdog\",\n",
    "    \"collie\",\n",
    "    \"border_collie\",\n",
    "    \"bouvier_des_flandres\",\n",
    "    \"rottweiler\",\n",
    "    \"german_shepherd\",\n",
    "    \"doberman\",\n",
    "    \"miniature_pinscher\",\n",
    "    \"greater_swiss_mountain_dog\",\n",
    "    \"bernese_mountain_dog\",\n",
    "    \"appenzeller\",\n",
    "    \"entlebucher\",\n",
    "    \"boxer\",\n",
    "    \"bull_mastiff\",\n",
    "    \"tibetan_mastiff\",\n",
    "    \"french_bulldog\",\n",
    "    \"great_dane\",\n",
    "    \"saint_bernard\",\n",
    "    \"eskimo_dog\",\n",
    "    \"malamute\",\n",
    "    \"siberian_husky\"\n",
    "]\n"
   ]
  },
  {
   "cell_type": "code",
   "execution_count": 6,
   "metadata": {},
   "outputs": [],
   "source": [
    "matching_classes = [cls for cls in imagenet_class_names if is_match(cls, dog_classes)]\n"
   ]
  },
  {
   "cell_type": "code",
   "execution_count": 7,
   "metadata": {},
   "outputs": [],
   "source": [
    "# Get average of dog neurons from cached activations\n",
    "def load_cached_act(layer_num, save_path = '/network/scratch/s/sonia.joseph/clip_mechinterp/tinyclip/mini_dataset/'):\n",
    "    \"\"\"\n",
    "    Load cached activations and calculate per-neuron z-scores.\n",
    "    \"\"\"\n",
    "\n",
    "    file_name = f'mlp_fc1_{layer_num}.npz'\n",
    "    loaded = pd.read_parquet(os.path.join(save_path, file_name))\n",
    "\n",
    "    return loaded\n",
    "    \n",
    "    \n",
    "layer_num = 7\n",
    "loaded = load_cached_act(layer_num)"
   ]
  },
  {
   "cell_type": "code",
   "execution_count": 8,
   "metadata": {},
   "outputs": [],
   "source": [
    "# Take loaded dataset and calculate average activation_value per neuron of all dog-classes\n",
    "\n",
    "avg_dog_activation = loaded[loaded['class_name'].isin(dog_classes)].groupby('neuron_idx')['activation_value'].mean()\n",
    "avg_dog_activation\n",
    "\n",
    "avg_cup_activation = loaded[loaded['class_name'].isin(cup_classes)].groupby('neuron_idx')['activation_value'].mean()"
   ]
  },
  {
   "cell_type": "code",
   "execution_count": 9,
   "metadata": {},
   "outputs": [
    {
     "name": "stdout",
     "output_type": "stream",
     "text": [
      "-0.5700862557415344\n",
      "-1.5201441726844929\n"
     ]
    }
   ],
   "source": [
    "print(avg_cup_activation.iloc[128])\n",
    "print(avg_dog_activation.iloc[128])"
   ]
  },
  {
   "cell_type": "code",
   "execution_count": 10,
   "metadata": {},
   "outputs": [
    {
     "name": "stderr",
     "output_type": "stream",
     "text": [
      "`text_config_dict` is provided which will be used to initialize `CLIPTextConfig`. The value `text_config[\"id2label\"]` will be overriden.\n",
      "`text_config_dict` is provided which will be used to initialize `CLIPTextConfig`. The value `text_config[\"id2label\"]` will be overriden.\n"
     ]
    }
   ],
   "source": [
    "# Load CLIP model\n",
    "from transformers import CLIPProcessor, CLIPModel\n",
    "\n",
    "model = CLIPModel.from_pretrained(\"wkcn/TinyCLIP-ViT-8M-16-Text-3M-YFCC15M\")\n",
    "processor = CLIPProcessor.from_pretrained(\"wkcn/TinyCLIP-ViT-8M-16-Text-3M-YFCC15M\", do_rescale=False) # Make sure the do_rescale is false for pytorch datasets\n"
   ]
  },
  {
   "cell_type": "code",
   "execution_count": 11,
   "metadata": {},
   "outputs": [
    {
     "name": "stdout",
     "output_type": "stream",
     "text": [
      "-1.5201441726844929\n"
     ]
    }
   ],
   "source": [
    "import copy\n",
    "\n",
    "def create_custom_hook(neuron_idx, new_value):\n",
    "    # This is the actual hook function\n",
    "    def custom_forward_hook(module, input, output):\n",
    "        # Modify the output for the specified neuron\n",
    "        output[:, :, neuron_idx] = new_value\n",
    "        return output\n",
    "    return custom_forward_hook\n",
    "\n",
    "# Specify the neuron index and the new value\n",
    "neuron_idx = 128 # for example, modify the first neuron\n",
    "new_value = avg_dog_activation.iloc[neuron_idx]  # example new value\n",
    "layer_num = 7\n",
    "print(new_value)\n",
    "\n",
    "images, labels = next(iter(data_loader))\n",
    "\n",
    "inputs = processor(text=imagenet_class_names, images=images, return_tensors=\"pt\", padding=True)\n",
    "\n",
    "ablated_model = copy.deepcopy(model)\n",
    "# Create the custom hook function\n",
    "custom_hook_function = create_custom_hook(neuron_idx, new_value)\n",
    "\n",
    "\n"
   ]
  },
  {
   "cell_type": "code",
   "execution_count": 12,
   "metadata": {},
   "outputs": [
    {
     "data": {
      "application/vnd.jupyter.widget-view+json": {
       "model_id": "fefd6aa3dfe245a3810790de6f9684c9",
       "version_major": 2,
       "version_minor": 0
      },
      "text/plain": [
       "  0%|          | 0/100 [00:00<?, ?it/s]"
      ]
     },
     "metadata": {},
     "output_type": "display_data"
    }
   ],
   "source": [
    "# Doing this per neuron\n",
    "\n",
    "max_count = 100\n",
    "count = 0 \n",
    "\n",
    "# Should I show cups and non-cups?\n",
    "\n",
    "# 1. Collect all vanilla logits\n",
    "vanilla_logits = np.zeros((max_count, 1000)) # max count x class_num\n",
    "ablated_logits = np.zeros((max_count, 1000))\n",
    "\n",
    "# Register the hook to the specified layer\n",
    "hook = ablated_model.vision_model.encoder.layers[layer_num].mlp.fc1.register_forward_hook(custom_hook_function)\n",
    "\n",
    "for idx, (images, labels) in tqdm(enumerate(data_loader), total=max_count):\n",
    "\n",
    "    inputs = processor(text=imagenet_class_names, images=images, return_tensors=\"pt\", padding=True)\n",
    "\n",
    "    # Vanilla\n",
    "    outputs = model(**inputs)\n",
    "    logits_per_image = outputs.logits_per_image # this is the image-text similarity score\n",
    "    vanilla_logits[idx,:] = logits_per_image.detach().numpy()  \n",
    "\n",
    "    # Ablated\n",
    "    ablated_outputs = ablated_model(**inputs)\n",
    "    logits_per_image = ablated_outputs.logits_per_image\n",
    "    ablated_logits[idx,:] = logits_per_image.detach().numpy()\n",
    "\n",
    "    count += 1\n",
    "    if count >= max_count:\n",
    "        break\n",
    "\n",
    "hook.remove()\n"
   ]
  },
  {
   "cell_type": "markdown",
   "metadata": {},
   "source": [
    "## Logit difference for cup class vs non-cup class\n",
    "\n",
    "logit_metric = logexpsum(cup - non-cup)\n"
   ]
  },
  {
   "cell_type": "code",
   "execution_count": 30,
   "metadata": {},
   "outputs": [
    {
     "name": "stdout",
     "output_type": "stream",
     "text": [
      "Vanilla logit diff -4.323774675320436\n",
      "Ablated logit diff -4.359438121227178\n"
     ]
    }
   ],
   "source": [
    "from scipy.special import logsumexp\n",
    "\n",
    "def logit_metric(logits, cup_indices):\n",
    "    # Convert cup_indices to a tensor if it's a list\n",
    "    cup_indices_tensor = torch.tensor(cup_indices, dtype=torch.long)\n",
    "\n",
    "    # Create a boolean mask for all logits: False for cup indices, True for others\n",
    "\n",
    "    mask = torch.ones(logits.shape[1], dtype=torch.bool)  # All True initially\n",
    "    mask[cup_indices_tensor] = False  # Set False for cup indices\n",
    "\n",
    "    # Extract cup logits\n",
    "    cup_logit = logits[:, cup_indices_tensor]\n",
    "\n",
    "    # Extract non-cup logits using the inverted mask\n",
    "    non_cup_logit = logits[:, mask]\n",
    "\n",
    "\n",
    "    diff = logsumexp(cup_logit, axis=1).mean() - logsumexp(non_cup_logit, axis=1).mean()\n",
    "\n",
    "    return diff\n",
    "\n",
    "# We use logsumexp for numerical stability (we're adding multiple logits together to compose each class)\n",
    "    \n",
    "cup_indices = [imagenet_class_names.index(cup_name) for cup_name in cup_classes if cup_name in imagenet_class_names]\n",
    "\n",
    "\n",
    "# Example usage\n",
    "# logits is a tensor of shape [batch_size, 1000] (for ImageNet classes)\n",
    "# cup_indices is a list or tensor of indices for cup classes\n",
    "log_diff = logit_metric(vanilla_logits, cup_indices)\n",
    "print(\"Vanilla logit diff\", log_diff)\n",
    "\n",
    "log_diff = logit_metric(ablated_logits, cup_indices)\n",
    "print(\"Ablated logit diff\", log_diff)\n",
    "\n"
   ]
  },
  {
   "cell_type": "code",
   "execution_count": 36,
   "metadata": {},
   "outputs": [
    {
     "data": {
      "application/vnd.jupyter.widget-view+json": {
       "model_id": "c4f468e081cb42b59bb42e6d08239799",
       "version_major": 2,
       "version_minor": 0
      },
      "text/plain": [
       "  0%|          | 0/100 [00:00<?, ?it/s]"
      ]
     },
     "metadata": {},
     "output_type": "display_data"
    },
    {
     "name": "stdout",
     "output_type": "stream",
     "text": [
      "Ablated logit diff for neuron 128 -4.359438121227178\n"
     ]
    },
    {
     "data": {
      "text/plain": [
       "-4.359438121227178"
      ]
     },
     "execution_count": 36,
     "metadata": {},
     "output_type": "execute_result"
    }
   ],
   "source": [
    "# Doing this per neuron\n",
    "import copy\n",
    "\n",
    "def create_custom_hook(neuron_idx, new_value):\n",
    "    # This is the actual hook function\n",
    "    def custom_forward_hook(module, input, output):\n",
    "        # Modify the output for the specified neuron\n",
    "        output[:, :, neuron_idx] = new_value\n",
    "        return output\n",
    "    return custom_forward_hook\n",
    "\n",
    "\n",
    "def logit_diff_per_neuron(model, neuron_idx, layer_num, max_count=100):\n",
    "\n",
    "    new_value = avg_dog_activation.iloc[neuron_idx]  # resampling ablations with dogs\n",
    "\n",
    "    ablated_model = copy.deepcopy(model)\n",
    "    custom_hook_function = create_custom_hook(neuron_idx, new_value)\n",
    "\n",
    "    count = 0 \n",
    "\n",
    "    # Should I show cups and non-cups?\n",
    "    # 1. Collect all vanilla logits\n",
    "    # vanilla_logits = np.zeros((max_count, 1000)) # max count x class_num\n",
    "    ablated_logits = np.zeros((max_count, 1000))\n",
    "\n",
    "    # Register the hook to the specified layer\n",
    "    hook = ablated_model.vision_model.encoder.layers[layer_num].mlp.fc1.register_forward_hook(custom_hook_function)\n",
    "\n",
    "    for idx, (images, labels) in tqdm(enumerate(data_loader), total=max_count):\n",
    "\n",
    "        inputs = processor(text=imagenet_class_names, images=images, return_tensors=\"pt\", padding=True)\n",
    "\n",
    "        # # Vanilla\n",
    "        # outputs = model(**inputs)\n",
    "        # logits_per_image = outputs.logits_per_image # this is the image-text similarity score\n",
    "        # vanilla_logits[idx,:] = logits_per_image.detach().numpy()  \n",
    "\n",
    "        # Ablated\n",
    "        ablated_outputs = ablated_model(**inputs)\n",
    "        logits_per_image = ablated_outputs.logits_per_image\n",
    "        ablated_logits[idx,:] = logits_per_image.detach().numpy()\n",
    "\n",
    "        count += 1\n",
    "        if count >= max_count:\n",
    "            break\n",
    "\n",
    "    hook.remove()\n",
    "\n",
    "\n",
    "    logit_diff = logit_metric(ablated_logits, cup_indices)\n",
    "    print(\"Ablated logit diff for neuron\", neuron_idx, logit_diff)\n",
    "\n",
    "    return logit_diff\n",
    "\n",
    "\n",
    "neuron_idx = 128\n",
    "layer_num = 7\n",
    "logit_diff_per_neuron(model, neuron_idx, layer_num, max_count=100)\n"
   ]
  },
  {
   "cell_type": "markdown",
   "metadata": {},
   "source": [
    "### Try ablatin randomly chosen neurons in layer for comparison"
   ]
  },
  {
   "cell_type": "code",
   "execution_count": 37,
   "metadata": {},
   "outputs": [
    {
     "data": {
      "application/vnd.jupyter.widget-view+json": {
       "model_id": "c7748373e0b94b2d9d9cd66e74c6bef7",
       "version_major": 2,
       "version_minor": 0
      },
      "text/plain": [
       "  0%|          | 0/100 [00:00<?, ?it/s]"
      ]
     },
     "metadata": {},
     "output_type": "display_data"
    },
    {
     "name": "stdout",
     "output_type": "stream",
     "text": [
      "Ablated logit diff for neuron 228 -4.328174472989868\n"
     ]
    },
    {
     "data": {
      "application/vnd.jupyter.widget-view+json": {
       "model_id": "f8dc086ec9404e97bfa06641bc4ac91a",
       "version_major": 2,
       "version_minor": 0
      },
      "text/plain": [
       "  0%|          | 0/100 [00:00<?, ?it/s]"
      ]
     },
     "metadata": {},
     "output_type": "display_data"
    },
    {
     "name": "stdout",
     "output_type": "stream",
     "text": [
      "Ablated logit diff for neuron 51 -4.3080990058550945\n"
     ]
    },
    {
     "data": {
      "application/vnd.jupyter.widget-view+json": {
       "model_id": "0fcb5f1f7f6e4afda0712ea1a075de24",
       "version_major": 2,
       "version_minor": 0
      },
      "text/plain": [
       "  0%|          | 0/100 [00:00<?, ?it/s]"
      ]
     },
     "metadata": {},
     "output_type": "display_data"
    },
    {
     "name": "stdout",
     "output_type": "stream",
     "text": [
      "Ablated logit diff for neuron 563 -4.330297825793448\n"
     ]
    },
    {
     "data": {
      "application/vnd.jupyter.widget-view+json": {
       "model_id": "8ab15cf8ef6c4de1b97e4aefb01d9aae",
       "version_major": 2,
       "version_minor": 0
      },
      "text/plain": [
       "  0%|          | 0/100 [00:00<?, ?it/s]"
      ]
     },
     "metadata": {},
     "output_type": "display_data"
    },
    {
     "name": "stdout",
     "output_type": "stream",
     "text": [
      "Ablated logit diff for neuron 501 -4.322847835966993\n"
     ]
    },
    {
     "data": {
      "application/vnd.jupyter.widget-view+json": {
       "model_id": "187d66b8c4aa4ab695b2780e8121f401",
       "version_major": 2,
       "version_minor": 0
      },
      "text/plain": [
       "  0%|          | 0/100 [00:00<?, ?it/s]"
      ]
     },
     "metadata": {},
     "output_type": "display_data"
    },
    {
     "name": "stdout",
     "output_type": "stream",
     "text": [
      "Ablated logit diff for neuron 457 -4.3248021690194705\n"
     ]
    },
    {
     "data": {
      "application/vnd.jupyter.widget-view+json": {
       "model_id": "8aac65c45b5948c09cb84075ec0fac65",
       "version_major": 2,
       "version_minor": 0
      },
      "text/plain": [
       "  0%|          | 0/100 [00:00<?, ?it/s]"
      ]
     },
     "metadata": {},
     "output_type": "display_data"
    },
    {
     "name": "stdout",
     "output_type": "stream",
     "text": [
      "Ablated logit diff for neuron 285 -4.324603938740225\n"
     ]
    },
    {
     "data": {
      "application/vnd.jupyter.widget-view+json": {
       "model_id": "da51985b1e08430593f5255b767b66e7",
       "version_major": 2,
       "version_minor": 0
      },
      "text/plain": [
       "  0%|          | 0/100 [00:00<?, ?it/s]"
      ]
     },
     "metadata": {},
     "output_type": "display_data"
    },
    {
     "name": "stdout",
     "output_type": "stream",
     "text": [
      "Ablated logit diff for neuron 209 -4.3210538135733\n"
     ]
    },
    {
     "data": {
      "application/vnd.jupyter.widget-view+json": {
       "model_id": "ffeae4718e38494a8b7455432859d373",
       "version_major": 2,
       "version_minor": 0
      },
      "text/plain": [
       "  0%|          | 0/100 [00:00<?, ?it/s]"
      ]
     },
     "metadata": {},
     "output_type": "display_data"
    },
    {
     "name": "stdout",
     "output_type": "stream",
     "text": [
      "Ablated logit diff for neuron 178 -4.323282989962614\n"
     ]
    },
    {
     "data": {
      "application/vnd.jupyter.widget-view+json": {
       "model_id": "77a4bce5cb714960894a78988c80a783",
       "version_major": 2,
       "version_minor": 0
      },
      "text/plain": [
       "  0%|          | 0/100 [00:00<?, ?it/s]"
      ]
     },
     "metadata": {},
     "output_type": "display_data"
    },
    {
     "name": "stdout",
     "output_type": "stream",
     "text": [
      "Ablated logit diff for neuron 864 -4.321989116275233\n"
     ]
    },
    {
     "data": {
      "application/vnd.jupyter.widget-view+json": {
       "model_id": "fcb180eef7c64007a26cb7f20a0a77f6",
       "version_major": 2,
       "version_minor": 0
      },
      "text/plain": [
       "  0%|          | 0/100 [00:00<?, ?it/s]"
      ]
     },
     "metadata": {},
     "output_type": "display_data"
    },
    {
     "name": "stdout",
     "output_type": "stream",
     "text": [
      "Ablated logit diff for neuron 65 -4.322641995274719\n"
     ]
    },
    {
     "data": {
      "application/vnd.jupyter.widget-view+json": {
       "model_id": "420b4bd9d3574f6db4bf265d4aff9e6f",
       "version_major": 2,
       "version_minor": 0
      },
      "text/plain": [
       "  0%|          | 0/100 [00:00<?, ?it/s]"
      ]
     },
     "metadata": {},
     "output_type": "display_data"
    },
    {
     "name": "stdout",
     "output_type": "stream",
     "text": [
      "Ablated logit diff for neuron 61 -4.3238434857853285\n"
     ]
    },
    {
     "data": {
      "application/vnd.jupyter.widget-view+json": {
       "model_id": "e4a2e35e999e4ccbb4822419b962b8a7",
       "version_major": 2,
       "version_minor": 0
      },
      "text/plain": [
       "  0%|          | 0/100 [00:00<?, ?it/s]"
      ]
     },
     "metadata": {},
     "output_type": "display_data"
    },
    {
     "name": "stdout",
     "output_type": "stream",
     "text": [
      "Ablated logit diff for neuron 191 -4.316336227457285\n"
     ]
    },
    {
     "data": {
      "application/vnd.jupyter.widget-view+json": {
       "model_id": "8e6ef70fbbe04a27aa135f9fa9a9addc",
       "version_major": 2,
       "version_minor": 0
      },
      "text/plain": [
       "  0%|          | 0/100 [00:00<?, ?it/s]"
      ]
     },
     "metadata": {},
     "output_type": "display_data"
    }
   ],
   "source": [
    "# Get 20 random incies between 0 and 1024\n",
    "random.seed(42)\n",
    "random_indices = random.sample(range(1024), 20)\n",
    "\n",
    "neuron_ablations = {}\n",
    "for neuron_idx in random_indices:\n",
    "    diff = logit_diff_per_neuron(model, neuron_idx, layer_num, max_count=100)\n",
    "    neuron_ablations[neuron_idx] = diff"
   ]
  },
  {
   "cell_type": "markdown",
   "metadata": {},
   "source": [
    "# Boxplot"
   ]
  },
  {
   "cell_type": "code",
   "execution_count": 1,
   "metadata": {},
   "outputs": [],
   "source": [
    "neuron_values = {\n",
    "    228: -4.328174472989868,\n",
    "    51: -4.3080990058550945,\n",
    "    563: -4.330297825793448,\n",
    "    501: -4.322847835966993,\n",
    "    457: -4.3248021690194705,\n",
    "    285: -4.324603938740225,\n",
    "    209: -4.3210538135733,\n",
    "    178: -4.323282989962614,\n",
    "    864: -4.321989116275233,\n",
    "    65: -4.322641995274719,\n",
    "    61: -4.3238434857853285,\n",
    "    191: -4.316336227457285,\n",
    "    'vanilla': -4.323774675320436,\n",
    "    128: -4.359438121227178,\n",
    "}\n"
   ]
  },
  {
   "cell_type": "code",
   "execution_count": 13,
   "metadata": {},
   "outputs": [
    {
     "data": {
      "image/png": "[encoded data removed]",
      "text/plain": [
       "<Figure size 1000x600 with 1 Axes>"
      ]
     },
     "metadata": {},
     "output_type": "display_data"
    },
    {
     "data": {
      "text/plain": [
       "<Figure size 640x480 with 0 Axes>"
      ]
     },
     "metadata": {},
     "output_type": "display_data"
    }
   ],
   "source": [
    "import matplotlib.pyplot as plt\n",
    "\n",
    "# Extracting values for the boxplot\n",
    "values = list(neuron_values.values())\n",
    "\n",
    "# Creating a boxplot\n",
    "plt.figure(figsize=(10, 6))\n",
    "plt.boxplot(values, patch_artist=True)\n",
    "\n",
    "for i, val in enumerate(values):\n",
    "    key = keys[i]\n",
    "    if key == 128 or key == 'vanilla':\n",
    "        plt.text(1, val, str(keys[i]), ha='center', va='bottom')\n",
    "\n",
    "\n",
    "# Adding title and labels\n",
    "plt.title('Boxplot of Ablated Logit Differences for vanilla, target neuron, and 10 randomly chosen neurons in layer 7')\n",
    "plt.ylabel('Ablated Logit Difference')\n",
    "plt.xticks([1], ['Neurons'])\n",
    "\n",
    "# Displaying the boxplot\n",
    "plt.show()\n",
    "\n",
    "# Save to figures folder as \n",
    "\n",
    "# Save as svg\n",
    "plt.savefig('figures/cup_neuron_ablation_population.svg')"
   ]
  },
  {
   "cell_type": "code",
   "execution_count": 6,
   "metadata": {},
   "outputs": [
    {
     "data": {
      "application/vnd.plotly.v1+json": {
       "config": {
        "plotlyServerURL": "https://plot.ly"
       },
       "data": [
        {
         "box": {
          "visible": true
         },
         "hoverinfo": "text",
         "line": {
          "color": "black"
         },
         "pointpos": 0,
         "points": "all",
         "text": [
          "228",
          "51",
          "563",
          "501",
          "457",
          "285",
          "209",
          "178",
          "864",
          "65",
          "61",
          "191",
          "vanilla",
          "128"
         ],
         "type": "violin",
         "x": [
          0,
          0,
          0,
          0,
          0,
          0,
          0,
          0,
          0,
          0,
          0,
          0,
          0,
          0
         ],
         "y": [
          -4.328174472989868,
          -4.3080990058550945,
          -4.330297825793448,
          -4.322847835966993,
          -4.3248021690194705,
          -4.324603938740225,
          -4.3210538135733,
          -4.323282989962614,
          -4.321989116275233,
          -4.322641995274719,
          -4.3238434857853285,
          -4.316336227457285,
          -4.323774675320436,
          -4.359438121227178
         ]
        }
       ],
       "layout": {
        "showlegend": false,
        "template": {
         "data": {
          "bar": [
           {
            "error_x": {
             "color": "#2a3f5f"
            },
            "error_y": {
             "color": "#2a3f5f"
            },
            "marker": {
             "line": {
              "color": "#E5ECF6",
              "width": 0.5
             },
             "pattern": {
              "fillmode": "overlay",
              "size": 10,
              "solidity": 0.2
             }
            },
            "type": "bar"
           }
          ],
          "barpolar": [
           {
            "marker": {
             "line": {
              "color": "#E5ECF6",
              "width": 0.5
             },
             "pattern": {
              "fillmode": "overlay",
              "size": 10,
              "solidity": 0.2
             }
            },
            "type": "barpolar"
           }
          ],
          "carpet": [
           {
            "aaxis": {
             "endlinecolor": "#2a3f5f",
             "gridcolor": "white",
             "linecolor": "white",
             "minorgridcolor": "white",
             "startlinecolor": "#2a3f5f"
            },
            "baxis": {
             "endlinecolor": "#2a3f5f",
             "gridcolor": "white",
             "linecolor": "white",
             "minorgridcolor": "white",
             "startlinecolor": "#2a3f5f"
            },
            "type": "carpet"
           }
          ],
          "choropleth": [
           {
            "colorbar": {
             "outlinewidth": 0,
             "ticks": ""
            },
            "type": "choropleth"
           }
          ],
          "contour": [
           {
            "colorbar": {
             "outlinewidth": 0,
             "ticks": ""
            },
            "colorscale": [
             [
              0,
              "#0d0887"
             ],
             [
              0.1111111111111111,
              "#46039f"
             ],
             [
              0.2222222222222222,
              "#7201a8"
             ],
             [
              0.3333333333333333,
              "#9c179e"
             ],
             [
              0.4444444444444444,
              "#bd3786"
             ],
             [
              0.5555555555555556,
              "#d8576b"
             ],
             [
              0.6666666666666666,
              "#ed7953"
             ],
             [
              0.7777777777777778,
              "#fb9f3a"
             ],
             [
              0.8888888888888888,
              "#fdca26"
             ],
             [
              1,
              "#f0f921"
             ]
            ],
            "type": "contour"
           }
          ],
          "contourcarpet": [
           {
            "colorbar": {
             "outlinewidth": 0,
             "ticks": ""
            },
            "type": "contourcarpet"
           }
          ],
          "heatmap": [
           {
            "colorbar": {
             "outlinewidth": 0,
             "ticks": ""
            },
            "colorscale": [
             [
              0,
              "#0d0887"
             ],
             [
              0.1111111111111111,
              "#46039f"
             ],
             [
              0.2222222222222222,
              "#7201a8"
             ],
             [
              0.3333333333333333,
              "#9c179e"
             ],
             [
              0.4444444444444444,
              "#bd3786"
             ],
             [
              0.5555555555555556,
              "#d8576b"
             ],
             [
              0.6666666666666666,
              "#ed7953"
             ],
             [
              0.7777777777777778,
              "#fb9f3a"
             ],
             [
              0.8888888888888888,
              "#fdca26"
             ],
             [
              1,
              "#f0f921"
             ]
            ],
            "type": "heatmap"
           }
          ],
          "heatmapgl": [
           {
            "colorbar": {
             "outlinewidth": 0,
             "ticks": ""
            },
            "colorscale": [
             [
              0,
              "#0d0887"
             ],
             [
              0.1111111111111111,
              "#46039f"
             ],
             [
              0.2222222222222222,
              "#7201a8"
             ],
             [
              0.3333333333333333,
              "#9c179e"
             ],
             [
              0.4444444444444444,
              "#bd3786"
             ],
             [
              0.5555555555555556,
              "#d8576b"
             ],
             [
              0.6666666666666666,
              "#ed7953"
             ],
             [
              0.7777777777777778,
              "#fb9f3a"
             ],
             [
              0.8888888888888888,
              "#fdca26"
             ],
             [
              1,
              "#f0f921"
             ]
            ],
            "type": "heatmapgl"
           }
          ],
          "histogram": [
           {
            "marker": {
             "pattern": {
              "fillmode": "overlay",
              "size": 10,
              "solidity": 0.2
             }
            },
            "type": "histogram"
           }
          ],
          "histogram2d": [
           {
            "colorbar": {
             "outlinewidth": 0,
             "ticks": ""
            },
            "colorscale": [
             [
              0,
              "#0d0887"
             ],
             [
              0.1111111111111111,
              "#46039f"
             ],
             [
              0.2222222222222222,
              "#7201a8"
             ],
             [
              0.3333333333333333,
              "#9c179e"
             ],
             [
              0.4444444444444444,
              "#bd3786"
             ],
             [
              0.5555555555555556,
              "#d8576b"
             ],
             [
              0.6666666666666666,
              "#ed7953"
             ],
             [
              0.7777777777777778,
              "#fb9f3a"
             ],
             [
              0.8888888888888888,
              "#fdca26"
             ],
             [
              1,
              "#f0f921"
             ]
            ],
            "type": "histogram2d"
           }
          ],
          "histogram2dcontour": [
           {
            "colorbar": {
             "outlinewidth": 0,
             "ticks": ""
            },
            "colorscale": [
             [
              0,
              "#0d0887"
             ],
             [
              0.1111111111111111,
              "#46039f"
             ],
             [
              0.2222222222222222,
              "#7201a8"
             ],
             [
              0.3333333333333333,
              "#9c179e"
             ],
             [
              0.4444444444444444,
              "#bd3786"
             ],
             [
              0.5555555555555556,
              "#d8576b"
             ],
             [
              0.6666666666666666,
              "#ed7953"
             ],
             [
              0.7777777777777778,
              "#fb9f3a"
             ],
             [
              0.8888888888888888,
              "#fdca26"
             ],
             [
              1,
              "#f0f921"
             ]
            ],
            "type": "histogram2dcontour"
           }
          ],
          "mesh3d": [
           {
            "colorbar": {
             "outlinewidth": 0,
             "ticks": ""
            },
            "type": "mesh3d"
           }
          ],
          "parcoords": [
           {
            "line": {
             "colorbar": {
              "outlinewidth": 0,
              "ticks": ""
             }
            },
            "type": "parcoords"
           }
          ],
          "pie": [
           {
            "automargin": true,
            "type": "pie"
           }
          ],
          "scatter": [
           {
            "fillpattern": {
             "fillmode": "overlay",
             "size": 10,
             "solidity": 0.2
            },
            "type": "scatter"
           }
          ],
          "scatter3d": [
           {
            "line": {
             "colorbar": {
              "outlinewidth": 0,
              "ticks": ""
             }
            },
            "marker": {
             "colorbar": {
              "outlinewidth": 0,
              "ticks": ""
             }
            },
            "type": "scatter3d"
           }
          ],
          "scattercarpet": [
           {
            "marker": {
             "colorbar": {
              "outlinewidth": 0,
              "ticks": ""
             }
            },
            "type": "scattercarpet"
           }
          ],
          "scattergeo": [
           {
            "marker": {
             "colorbar": {
              "outlinewidth": 0,
              "ticks": ""
             }
            },
            "type": "scattergeo"
           }
          ],
          "scattergl": [
           {
            "marker": {
             "colorbar": {
              "outlinewidth": 0,
              "ticks": ""
             }
            },
            "type": "scattergl"
           }
          ],
          "scattermapbox": [
           {
            "marker": {
             "colorbar": {
              "outlinewidth": 0,
              "ticks": ""
             }
            },
            "type": "scattermapbox"
           }
          ],
          "scatterpolar": [
           {
            "marker": {
             "colorbar": {
              "outlinewidth": 0,
              "ticks": ""
             }
            },
            "type": "scatterpolar"
           }
          ],
          "scatterpolargl": [
           {
            "marker": {
             "colorbar": {
              "outlinewidth": 0,
              "ticks": ""
             }
            },
            "type": "scatterpolargl"
           }
          ],
          "scatterternary": [
           {
            "marker": {
             "colorbar": {
              "outlinewidth": 0,
              "ticks": ""
             }
            },
            "type": "scatterternary"
           }
          ],
          "surface": [
           {
            "colorbar": {
             "outlinewidth": 0,
             "ticks": ""
            },
            "colorscale": [
             [
              0,
              "#0d0887"
             ],
             [
              0.1111111111111111,
              "#46039f"
             ],
             [
              0.2222222222222222,
              "#7201a8"
             ],
             [
              0.3333333333333333,
              "#9c179e"
             ],
             [
              0.4444444444444444,
              "#bd3786"
             ],
             [
              0.5555555555555556,
              "#d8576b"
             ],
             [
              0.6666666666666666,
              "#ed7953"
             ],
             [
              0.7777777777777778,
              "#fb9f3a"
             ],
             [
              0.8888888888888888,
              "#fdca26"
             ],
             [
              1,
              "#f0f921"
             ]
            ],
            "type": "surface"
           }
          ],
          "table": [
           {
            "cells": {
             "fill": {
              "color": "#EBF0F8"
             },
             "line": {
              "color": "white"
             }
            },
            "header": {
             "fill": {
              "color": "#C8D4E3"
             },
             "line": {
              "color": "white"
             }
            },
            "type": "table"
           }
          ]
         },
         "layout": {
          "annotationdefaults": {
           "arrowcolor": "#2a3f5f",
           "arrowhead": 0,
           "arrowwidth": 1
          },
          "autotypenumbers": "strict",
          "coloraxis": {
           "colorbar": {
            "outlinewidth": 0,
            "ticks": ""
           }
          },
          "colorscale": {
           "diverging": [
            [
             0,
             "#8e0152"
            ],
            [
             0.1,
             "#c51b7d"
            ],
            [
             0.2,
             "#de77ae"
            ],
            [
             0.3,
             "#f1b6da"
            ],
            [
             0.4,
             "#fde0ef"
            ],
            [
             0.5,
             "#f7f7f7"
            ],
            [
             0.6,
             "#e6f5d0"
            ],
            [
             0.7,
             "#b8e186"
            ],
            [
             0.8,
             "#7fbc41"
            ],
            [
             0.9,
             "#4d9221"
            ],
            [
             1,
             "#276419"
            ]
           ],
           "sequential": [
            [
             0,
             "#0d0887"
            ],
            [
             0.1111111111111111,
             "#46039f"
            ],
            [
             0.2222222222222222,
             "#7201a8"
            ],
            [
             0.3333333333333333,
             "#9c179e"
            ],
            [
             0.4444444444444444,
             "#bd3786"
            ],
            [
             0.5555555555555556,
             "#d8576b"
            ],
            [
             0.6666666666666666,
             "#ed7953"
            ],
            [
             0.7777777777777778,
             "#fb9f3a"
            ],
            [
             0.8888888888888888,
             "#fdca26"
            ],
            [
             1,
             "#f0f921"
            ]
           ],
           "sequentialminus": [
            [
             0,
             "#0d0887"
            ],
            [
             0.1111111111111111,
             "#46039f"
            ],
            [
             0.2222222222222222,
             "#7201a8"
            ],
            [
             0.3333333333333333,
             "#9c179e"
            ],
            [
             0.4444444444444444,
             "#bd3786"
            ],
            [
             0.5555555555555556,
             "#d8576b"
            ],
            [
             0.6666666666666666,
             "#ed7953"
            ],
            [
             0.7777777777777778,
             "#fb9f3a"
            ],
            [
             0.8888888888888888,
             "#fdca26"
            ],
            [
             1,
             "#f0f921"
            ]
           ]
          },
          "colorway": [
           "#636efa",
           "#EF553B",
           "#00cc96",
           "#ab63fa",
           "#FFA15A",
           "#19d3f3",
           "#FF6692",
           "#B6E880",
           "#FF97FF",
           "#FECB52"
          ],
          "font": {
           "color": "#2a3f5f"
          },
          "geo": {
           "bgcolor": "white",
           "lakecolor": "white",
           "landcolor": "#E5ECF6",
           "showlakes": true,
           "showland": true,
           "subunitcolor": "white"
          },
          "hoverlabel": {
           "align": "left"
          },
          "hovermode": "closest",
          "mapbox": {
           "style": "light"
          },
          "paper_bgcolor": "white",
          "plot_bgcolor": "#E5ECF6",
          "polar": {
           "angularaxis": {
            "gridcolor": "white",
            "linecolor": "white",
            "ticks": ""
           },
           "bgcolor": "#E5ECF6",
           "radialaxis": {
            "gridcolor": "white",
            "linecolor": "white",
            "ticks": ""
           }
          },
          "scene": {
           "xaxis": {
            "backgroundcolor": "#E5ECF6",
            "gridcolor": "white",
            "gridwidth": 2,
            "linecolor": "white",
            "showbackground": true,
            "ticks": "",
            "zerolinecolor": "white"
           },
           "yaxis": {
            "backgroundcolor": "#E5ECF6",
            "gridcolor": "white",
            "gridwidth": 2,
            "linecolor": "white",
            "showbackground": true,
            "ticks": "",
            "zerolinecolor": "white"
           },
           "zaxis": {
            "backgroundcolor": "#E5ECF6",
            "gridcolor": "white",
            "gridwidth": 2,
            "linecolor": "white",
            "showbackground": true,
            "ticks": "",
            "zerolinecolor": "white"
           }
          },
          "shapedefaults": {
           "line": {
            "color": "#2a3f5f"
           }
          },
          "ternary": {
           "aaxis": {
            "gridcolor": "white",
            "linecolor": "white",
            "ticks": ""
           },
           "baxis": {
            "gridcolor": "white",
            "linecolor": "white",
            "ticks": ""
           },
           "bgcolor": "#E5ECF6",
           "caxis": {
            "gridcolor": "white",
            "linecolor": "white",
            "ticks": ""
           }
          },
          "title": {
           "x": 0.05
          },
          "xaxis": {
           "automargin": true,
           "gridcolor": "white",
           "linecolor": "white",
           "ticks": "",
           "title": {
            "standoff": 15
           },
           "zerolinecolor": "white",
           "zerolinewidth": 2
          },
          "yaxis": {
           "automargin": true,
           "gridcolor": "white",
           "linecolor": "white",
           "ticks": "",
           "title": {
            "standoff": 15
           },
           "zerolinecolor": "white",
           "zerolinewidth": 2
          }
         }
        },
        "title": {
         "text": "Violin Plot of Ablated Logit Differences with Neuron Indices"
        },
        "xaxis": {
         "showticklabels": false,
         "title": {
          "text": "Neurons"
         }
        },
        "yaxis": {
         "title": {
          "text": "Ablated Logit Difference"
         }
        }
       }
      },
      "text/html": [
       "<div>                            <div id=\"a0980366-b6ed-4a46-80b4-9424f1190d33\" class=\"plotly-graph-div\" style=\"height:525px; width:100%;\"></div>            <script type=\"text/javascript\">                require([\"plotly\"], function(Plotly) {                    window.PLOTLYENV=window.PLOTLYENV || {};                                    if (document.getElementById(\"a0980366-b6ed-4a46-80b4-9424f1190d33\")) {                    Plotly.newPlot(                        \"a0980366-b6ed-4a46-80b4-9424f1190d33\",                        [{\"box\":{\"visible\":true},\"hoverinfo\":\"text\",\"line\":{\"color\":\"black\"},\"pointpos\":0,\"points\":\"all\",\"text\":[\"228\",\"51\",\"563\",\"501\",\"457\",\"285\",\"209\",\"178\",\"864\",\"65\",\"61\",\"191\",\"vanilla\",\"128\"],\"x\":[0.0,0.0,0.0,0.0,0.0,0.0,0.0,0.0,0.0,0.0,0.0,0.0,0.0,0.0],\"y\":[-4.328174472989868,-4.3080990058550945,-4.330297825793448,-4.322847835966993,-4.3248021690194705,-4.324603938740225,-4.3210538135733,-4.323282989962614,-4.321989116275233,-4.322641995274719,-4.3238434857853285,-4.316336227457285,-4.323774675320436,-4.359438121227178],\"type\":\"violin\"}],                        {\"template\":{\"data\":{\"histogram2dcontour\":[{\"type\":\"histogram2dcontour\",\"colorbar\":{\"outlinewidth\":0,\"ticks\":\"\"},\"colorscale\":[[0.0,\"#0d0887\"],[0.1111111111111111,\"#46039f\"],[0.2222222222222222,\"#7201a8\"],[0.3333333333333333,\"#9c179e\"],[0.4444444444444444,\"#bd3786\"],[0.5555555555555556,\"#d8576b\"],[0.6666666666666666,\"#ed7953\"],[0.7777777777777778,\"#fb9f3a\"],[0.8888888888888888,\"#fdca26\"],[1.0,\"#f0f921\"]]}],\"choropleth\":[{\"type\":\"choropleth\",\"colorbar\":{\"outlinewidth\":0,\"ticks\":\"\"}}],\"histogram2d\":[{\"type\":\"histogram2d\",\"colorbar\":{\"outlinewidth\":0,\"ticks\":\"\"},\"colorscale\":[[0.0,\"#0d0887\"],[0.1111111111111111,\"#46039f\"],[0.2222222222222222,\"#7201a8\"],[0.3333333333333333,\"#9c179e\"],[0.4444444444444444,\"#bd3786\"],[0.5555555555555556,\"#d8576b\"],[0.6666666666666666,\"#ed7953\"],[0.7777777777777778,\"#fb9f3a\"],[0.8888888888888888,\"#fdca26\"],[1.0,\"#f0f921\"]]}],\"heatmap\":[{\"type\":\"heatmap\",\"colorbar\":{\"outlinewidth\":0,\"ticks\":\"\"},\"colorscale\":[[0.0,\"#0d0887\"],[0.1111111111111111,\"#46039f\"],[0.2222222222222222,\"#7201a8\"],[0.3333333333333333,\"#9c179e\"],[0.4444444444444444,\"#bd3786\"],[0.5555555555555556,\"#d8576b\"],[0.6666666666666666,\"#ed7953\"],[0.7777777777777778,\"#fb9f3a\"],[0.8888888888888888,\"#fdca26\"],[1.0,\"#f0f921\"]]}],\"heatmapgl\":[{\"type\":\"heatmapgl\",\"colorbar\":{\"outlinewidth\":0,\"ticks\":\"\"},\"colorscale\":[[0.0,\"#0d0887\"],[0.1111111111111111,\"#46039f\"],[0.2222222222222222,\"#7201a8\"],[0.3333333333333333,\"#9c179e\"],[0.4444444444444444,\"#bd3786\"],[0.5555555555555556,\"#d8576b\"],[0.6666666666666666,\"#ed7953\"],[0.7777777777777778,\"#fb9f3a\"],[0.8888888888888888,\"#fdca26\"],[1.0,\"#f0f921\"]]}],\"contourcarpet\":[{\"type\":\"contourcarpet\",\"colorbar\":{\"outlinewidth\":0,\"ticks\":\"\"}}],\"contour\":[{\"type\":\"contour\",\"colorbar\":{\"outlinewidth\":0,\"ticks\":\"\"},\"colorscale\":[[0.0,\"#0d0887\"],[0.1111111111111111,\"#46039f\"],[0.2222222222222222,\"#7201a8\"],[0.3333333333333333,\"#9c179e\"],[0.4444444444444444,\"#bd3786\"],[0.5555555555555556,\"#d8576b\"],[0.6666666666666666,\"#ed7953\"],[0.7777777777777778,\"#fb9f3a\"],[0.8888888888888888,\"#fdca26\"],[1.0,\"#f0f921\"]]}],\"surface\":[{\"type\":\"surface\",\"colorbar\":{\"outlinewidth\":0,\"ticks\":\"\"},\"colorscale\":[[0.0,\"#0d0887\"],[0.1111111111111111,\"#46039f\"],[0.2222222222222222,\"#7201a8\"],[0.3333333333333333,\"#9c179e\"],[0.4444444444444444,\"#bd3786\"],[0.5555555555555556,\"#d8576b\"],[0.6666666666666666,\"#ed7953\"],[0.7777777777777778,\"#fb9f3a\"],[0.8888888888888888,\"#fdca26\"],[1.0,\"#f0f921\"]]}],\"mesh3d\":[{\"type\":\"mesh3d\",\"colorbar\":{\"outlinewidth\":0,\"ticks\":\"\"}}],\"scatter\":[{\"fillpattern\":{\"fillmode\":\"overlay\",\"size\":10,\"solidity\":0.2},\"type\":\"scatter\"}],\"parcoords\":[{\"type\":\"parcoords\",\"line\":{\"colorbar\":{\"outlinewidth\":0,\"ticks\":\"\"}}}],\"scatterpolargl\":[{\"type\":\"scatterpolargl\",\"marker\":{\"colorbar\":{\"outlinewidth\":0,\"ticks\":\"\"}}}],\"bar\":[{\"error_x\":{\"color\":\"#2a3f5f\"},\"error_y\":{\"color\":\"#2a3f5f\"},\"marker\":{\"line\":{\"color\":\"#E5ECF6\",\"width\":0.5},\"pattern\":{\"fillmode\":\"overlay\",\"size\":10,\"solidity\":0.2}},\"type\":\"bar\"}],\"scattergeo\":[{\"type\":\"scattergeo\",\"marker\":{\"colorbar\":{\"outlinewidth\":0,\"ticks\":\"\"}}}],\"scatterpolar\":[{\"type\":\"scatterpolar\",\"marker\":{\"colorbar\":{\"outlinewidth\":0,\"ticks\":\"\"}}}],\"histogram\":[{\"marker\":{\"pattern\":{\"fillmode\":\"overlay\",\"size\":10,\"solidity\":0.2}},\"type\":\"histogram\"}],\"scattergl\":[{\"type\":\"scattergl\",\"marker\":{\"colorbar\":{\"outlinewidth\":0,\"ticks\":\"\"}}}],\"scatter3d\":[{\"type\":\"scatter3d\",\"line\":{\"colorbar\":{\"outlinewidth\":0,\"ticks\":\"\"}},\"marker\":{\"colorbar\":{\"outlinewidth\":0,\"ticks\":\"\"}}}],\"scattermapbox\":[{\"type\":\"scattermapbox\",\"marker\":{\"colorbar\":{\"outlinewidth\":0,\"ticks\":\"\"}}}],\"scatterternary\":[{\"type\":\"scatterternary\",\"marker\":{\"colorbar\":{\"outlinewidth\":0,\"ticks\":\"\"}}}],\"scattercarpet\":[{\"type\":\"scattercarpet\",\"marker\":{\"colorbar\":{\"outlinewidth\":0,\"ticks\":\"\"}}}],\"carpet\":[{\"aaxis\":{\"endlinecolor\":\"#2a3f5f\",\"gridcolor\":\"white\",\"linecolor\":\"white\",\"minorgridcolor\":\"white\",\"startlinecolor\":\"#2a3f5f\"},\"baxis\":{\"endlinecolor\":\"#2a3f5f\",\"gridcolor\":\"white\",\"linecolor\":\"white\",\"minorgridcolor\":\"white\",\"startlinecolor\":\"#2a3f5f\"},\"type\":\"carpet\"}],\"table\":[{\"cells\":{\"fill\":{\"color\":\"#EBF0F8\"},\"line\":{\"color\":\"white\"}},\"header\":{\"fill\":{\"color\":\"#C8D4E3\"},\"line\":{\"color\":\"white\"}},\"type\":\"table\"}],\"barpolar\":[{\"marker\":{\"line\":{\"color\":\"#E5ECF6\",\"width\":0.5},\"pattern\":{\"fillmode\":\"overlay\",\"size\":10,\"solidity\":0.2}},\"type\":\"barpolar\"}],\"pie\":[{\"automargin\":true,\"type\":\"pie\"}]},\"layout\":{\"autotypenumbers\":\"strict\",\"colorway\":[\"#636efa\",\"#EF553B\",\"#00cc96\",\"#ab63fa\",\"#FFA15A\",\"#19d3f3\",\"#FF6692\",\"#B6E880\",\"#FF97FF\",\"#FECB52\"],\"font\":{\"color\":\"#2a3f5f\"},\"hovermode\":\"closest\",\"hoverlabel\":{\"align\":\"left\"},\"paper_bgcolor\":\"white\",\"plot_bgcolor\":\"#E5ECF6\",\"polar\":{\"bgcolor\":\"#E5ECF6\",\"angularaxis\":{\"gridcolor\":\"white\",\"linecolor\":\"white\",\"ticks\":\"\"},\"radialaxis\":{\"gridcolor\":\"white\",\"linecolor\":\"white\",\"ticks\":\"\"}},\"ternary\":{\"bgcolor\":\"#E5ECF6\",\"aaxis\":{\"gridcolor\":\"white\",\"linecolor\":\"white\",\"ticks\":\"\"},\"baxis\":{\"gridcolor\":\"white\",\"linecolor\":\"white\",\"ticks\":\"\"},\"caxis\":{\"gridcolor\":\"white\",\"linecolor\":\"white\",\"ticks\":\"\"}},\"coloraxis\":{\"colorbar\":{\"outlinewidth\":0,\"ticks\":\"\"}},\"colorscale\":{\"sequential\":[[0.0,\"#0d0887\"],[0.1111111111111111,\"#46039f\"],[0.2222222222222222,\"#7201a8\"],[0.3333333333333333,\"#9c179e\"],[0.4444444444444444,\"#bd3786\"],[0.5555555555555556,\"#d8576b\"],[0.6666666666666666,\"#ed7953\"],[0.7777777777777778,\"#fb9f3a\"],[0.8888888888888888,\"#fdca26\"],[1.0,\"#f0f921\"]],\"sequentialminus\":[[0.0,\"#0d0887\"],[0.1111111111111111,\"#46039f\"],[0.2222222222222222,\"#7201a8\"],[0.3333333333333333,\"#9c179e\"],[0.4444444444444444,\"#bd3786\"],[0.5555555555555556,\"#d8576b\"],[0.6666666666666666,\"#ed7953\"],[0.7777777777777778,\"#fb9f3a\"],[0.8888888888888888,\"#fdca26\"],[1.0,\"#f0f921\"]],\"diverging\":[[0,\"#8e0152\"],[0.1,\"#c51b7d\"],[0.2,\"#de77ae\"],[0.3,\"#f1b6da\"],[0.4,\"#fde0ef\"],[0.5,\"#f7f7f7\"],[0.6,\"#e6f5d0\"],[0.7,\"#b8e186\"],[0.8,\"#7fbc41\"],[0.9,\"#4d9221\"],[1,\"#276419\"]]},\"xaxis\":{\"gridcolor\":\"white\",\"linecolor\":\"white\",\"ticks\":\"\",\"title\":{\"standoff\":15},\"zerolinecolor\":\"white\",\"automargin\":true,\"zerolinewidth\":2},\"yaxis\":{\"gridcolor\":\"white\",\"linecolor\":\"white\",\"ticks\":\"\",\"title\":{\"standoff\":15},\"zerolinecolor\":\"white\",\"automargin\":true,\"zerolinewidth\":2},\"scene\":{\"xaxis\":{\"backgroundcolor\":\"#E5ECF6\",\"gridcolor\":\"white\",\"linecolor\":\"white\",\"showbackground\":true,\"ticks\":\"\",\"zerolinecolor\":\"white\",\"gridwidth\":2},\"yaxis\":{\"backgroundcolor\":\"#E5ECF6\",\"gridcolor\":\"white\",\"linecolor\":\"white\",\"showbackground\":true,\"ticks\":\"\",\"zerolinecolor\":\"white\",\"gridwidth\":2},\"zaxis\":{\"backgroundcolor\":\"#E5ECF6\",\"gridcolor\":\"white\",\"linecolor\":\"white\",\"showbackground\":true,\"ticks\":\"\",\"zerolinecolor\":\"white\",\"gridwidth\":2}},\"shapedefaults\":{\"line\":{\"color\":\"#2a3f5f\"}},\"annotationdefaults\":{\"arrowcolor\":\"#2a3f5f\",\"arrowhead\":0,\"arrowwidth\":1},\"geo\":{\"bgcolor\":\"white\",\"landcolor\":\"#E5ECF6\",\"subunitcolor\":\"white\",\"showland\":true,\"showlakes\":true,\"lakecolor\":\"white\"},\"title\":{\"x\":0.05},\"mapbox\":{\"style\":\"light\"}}},\"xaxis\":{\"showticklabels\":false,\"title\":{\"text\":\"Neurons\"}},\"title\":{\"text\":\"Violin Plot of Ablated Logit Differences with Neuron Indices\"},\"yaxis\":{\"title\":{\"text\":\"Ablated Logit Difference\"}},\"showlegend\":false},                        {\"responsive\": true}                    ).then(function(){\n",
       "                            \n",
       "var gd = document.getElementById('a0980366-b6ed-4a46-80b4-9424f1190d33');\n",
       "var x = new MutationObserver(function (mutations, observer) {{\n",
       "        var display = window.getComputedStyle(gd).display;\n",
       "        if (!display || display === 'none') {{\n",
       "            console.log([gd, 'removed!']);\n",
       "            Plotly.purge(gd);\n",
       "            observer.disconnect();\n",
       "        }}\n",
       "}});\n",
       "\n",
       "// Listen for the removal of the full notebook cells\n",
       "var notebookContainer = gd.closest('#notebook-container');\n",
       "if (notebookContainer) {{\n",
       "    x.observe(notebookContainer, {childList: true});\n",
       "}}\n",
       "\n",
       "// Listen for the clearing of the current output cell\n",
       "var outputEl = gd.closest('.output');\n",
       "if (outputEl) {{\n",
       "    x.observe(outputEl, {childList: true});\n",
       "}}\n",
       "\n",
       "                        })                };                });            </script>        </div>"
      ]
     },
     "metadata": {},
     "output_type": "display_data"
    }
   ],
   "source": [
    "import plotly.graph_objs as go\n",
    "import numpy as np\n",
    "\n",
    "\n",
    "# Creating a list of keys (neuron indices) and corresponding values\n",
    "keys = list(neuron_values.keys())\n",
    "values = list(neuron_values.values())\n",
    "\n",
    "# Creating a violin plot\n",
    "fig = go.Figure(data=go.Violin(y=values, x=np.zeros(len(values)), \n",
    "                               text=keys, hoverinfo='text', \n",
    "                               points='all', box_visible=True, \n",
    "                               line_color='black', pointpos=0))\n",
    "\n",
    "# Updating layout for better visualization\n",
    "fig.update_layout(\n",
    "    title='Violin Plot of Ablated Logit Differences with Neuron Indices',\n",
    "    yaxis=dict(title='Ablated Logit Difference'),\n",
    "    xaxis=dict(showticklabels=False, title='Neurons'),\n",
    "    showlegend=False\n",
    ")\n",
    "\n",
    "# Show plot\n",
    "fig.show()\n"
   ]
  },
  {
   "cell_type": "markdown",
   "metadata": {},
   "source": []
  }
 ],
 "metadata": {
  "kernelspec": {
   "display_name": "env",
   "language": "python",
   "name": "python3"
  },
  "language_info": {
   "codemirror_mode": {
    "name": "ipython",
    "version": 3
   },
   "file_extension": ".py",
   "mimetype": "text/x-python",
   "name": "python",
   "nbconvert_exporter": "python",
   "pygments_lexer": "ipython3",
   "version": "3.7.4"
  },
  "orig_nbformat": 4
 },
 "nbformat": 4,
 "nbformat_minor": 2
}
